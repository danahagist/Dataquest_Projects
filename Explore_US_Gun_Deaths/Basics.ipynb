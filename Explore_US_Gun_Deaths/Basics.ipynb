{
 "cells": [
  {
   "cell_type": "markdown",
   "metadata": {},
   "source": [
    "# Analyzing Gun Deaths\n",
    "## Compiled By: Dana Hagist\n",
    "\n",
    "In this project, I'll be working with Jupyter notebook, and analyzing data on gun deaths in the US. \n",
    "The dataset came from FiveThirtyEight, and can be found https://github.com/fivethirtyeight/guns-data. The dataset is stored in the guns.csv file. It contains information on gun deaths in the US from 2012 to 2014. Each row in the dataset represents a single fatality. The columns contain demographic and other information about the victim. \n",
    "\n",
    "The first row of the data is a header row, which tells you what kind of data is in each column of the CSV file. Each row contains information about the fatality, and the victim. Here's an explanation of each column:\n",
    "- First is an identifier column, which contains the row number. It's common in CSV files to include a unique identifier for each row, but we can ignore it in this analysis.\n",
    "- year -- the year in which the fatality occurred.\n",
    "- month -- the month in which the fatality occurred.\n",
    "- intent -- the intent of the perpetrator of the crime. This can be Suicide, Accidental, NA, Homicide, or Undetermined.\n",
    "- police -- whether a police officer was involved with the shooting. Either 0 (false) or 1 (true).\n",
    "- sex -- the gender of the victim. Either M or F.\n",
    "- age -- the age of the victim.\n",
    "- race -- the race of the victim. Either Asian/Pacific Islander, Native- American/Native Alaskan, Black, Hispanic, or White.\n",
    "- hispanic -- a code indicating the Hispanic origin of the victim.\n",
    "- place -- where the shooting occurred. Has several categories, which you're encouraged to explore on your own.\n",
    "- education -- educational status of the victim. Can be one of the following:\n",
    "    - 1 -- Less than High School\n",
    "    - 2 -- Graduated from High School or equivalent\n",
    "    - 3 -- Some College\n",
    "    - 4 -- At least graduated from College\n",
    "    - 5 -- Not available\n",
    "\n",
    "In this project, we'll explore the dataset, and try to find patterns in the demographics of the victims. Our first step is to read the data in and take a look at it."
   ]
  },
  {
   "cell_type": "markdown",
   "metadata": {},
   "source": [
    "Task: \n",
    "Read the dataset in as a list using the csv module.\n",
    "- Import the csv module.\n",
    "- Open the file using the open() function.\n",
    "- Use the csv.reader() function to load the opened file.\n",
    "\n",
    "Call list() on the result to get a list of all the data in the file.\n",
    "- Assign the result to the variable data.\n",
    "\n",
    "Display the first 5 rows of data to verify everything."
   ]
  },
  {
   "cell_type": "code",
   "execution_count": 1,
   "metadata": {
    "collapsed": false
   },
   "outputs": [
    {
     "name": "stdout",
     "output_type": "stream",
     "text": [
      "[['', 'year', 'month', 'intent', 'police', 'sex', 'age', 'race', 'hispanic', 'place', 'education'], ['1', '2012', '01', 'Suicide', '0', 'M', '34', 'Asian/Pacific Islander', '100', 'Home', '4'], ['2', '2012', '01', 'Suicide', '0', 'F', '21', 'White', '100', 'Street', '3'], ['3', '2012', '01', 'Suicide', '0', 'M', '60', 'White', '100', 'Other specified', '4'], ['4', '2012', '02', 'Suicide', '0', 'M', '64', 'White', '100', 'Home', '4']]\n"
     ]
    }
   ],
   "source": [
    "# Solution:\n",
    "import csv\n",
    "a = open('guns.csv','r')\n",
    "b = csv.reader(a)\n",
    "data = list(b)\n",
    "print(data[:5])"
   ]
  },
  {
   "cell_type": "markdown",
   "metadata": {},
   "source": [
    "### Removing the Header Row\n",
    "In the cell above, we read our data into the list of lists data. Each inner list in data represents a single row. Each item in the inner lists represents a single column for that row.\n",
    "\n",
    "You will notice above that the first item in the data list is a header row. In order to analyze the data properly, we'll have to remove the header row, which contains the names of each column. We can remove this using list slicing. You can read more about lists here."
   ]
  },
  {
   "cell_type": "markdown",
   "metadata": {},
   "source": [
    "Task:\n",
    "- Extract the first row of data, and assign it to the variable headers.\n",
    "- Remove the first row from data.\n",
    "- Display headers.\n",
    "- Display the first 5 rows of data to verify that you removed the header row properly."
   ]
  },
  {
   "cell_type": "code",
   "execution_count": 2,
   "metadata": {
    "collapsed": false
   },
   "outputs": [
    {
     "name": "stdout",
     "output_type": "stream",
     "text": [
      "['', 'year', 'month', 'intent', 'police', 'sex', 'age', 'race', 'hispanic', 'place', 'education']\n",
      "[['1', '2012', '01', 'Suicide', '0', 'M', '34', 'Asian/Pacific Islander', '100', 'Home', '4'], ['2', '2012', '01', 'Suicide', '0', 'F', '21', 'White', '100', 'Street', '3'], ['3', '2012', '01', 'Suicide', '0', 'M', '60', 'White', '100', 'Other specified', '4'], ['4', '2012', '02', 'Suicide', '0', 'M', '64', 'White', '100', 'Home', '4'], ['5', '2012', '02', 'Suicide', '0', 'M', '31', 'White', '100', 'Other specified', '2']]\n"
     ]
    }
   ],
   "source": [
    "# Solution: \n",
    "headers = data[0]\n",
    "data_noheader = data[1:]\n",
    "print(headers)\n",
    "print(data_noheader[:5])"
   ]
  },
  {
   "cell_type": "markdown",
   "metadata": {},
   "source": [
    "### Calculating Gun Deaths Per Year\n",
    "\n",
    "The year column contains information on the year in which gun deaths occurred. We can use this column to calculate how many gun deaths happened in each year.\n",
    "\n",
    "We can perform this operation by creating a dictionary, then keeping count in the dictionary of how many times each element occurs in the year column."
   ]
  },
  {
   "cell_type": "markdown",
   "metadata": {},
   "source": [
    "Task: Use a list comprehension to extract the year column from data.\n",
    "- Because the year column is the second column in the data, you'll need to get the element at index 1 in each row.\n",
    "- Assign the result to the variable years.\n",
    "\n",
    "Create an empty dictionary called year_counts.\n",
    "\n",
    "Loop through each element in years.\n",
    "    - If the element isn't a key in year_counts, create it, and set the value to 1.\n",
    "    - If the element is a key in year_counts, increment the value by one.\n",
    "\n",
    "Display year_counts to see how many gun deaths occur in each year."
   ]
  },
  {
   "cell_type": "code",
   "execution_count": 3,
   "metadata": {
    "collapsed": false
   },
   "outputs": [
    {
     "name": "stdout",
     "output_type": "stream",
     "text": [
      "{'2013': 33636, '2014': 33599, '2012': 33563}\n"
     ]
    }
   ],
   "source": [
    "# Solution: \n",
    "years = [row[1] for row in data_noheader]\n",
    "year_counts ={}\n",
    "for year in years:\n",
    "    if year in year_counts:\n",
    "        year_counts[year] += 1\n",
    "    else:\n",
    "        year_counts[year] = 1\n",
    "print(year_counts)"
   ]
  },
  {
   "cell_type": "markdown",
   "metadata": {},
   "source": [
    "### Analyzing Gun Deaths by Month and Year\n",
    "\n",
    "It looks like gun deaths didn't change much by year from 2012 to 2014. Let's see if gun deaths in the US change by month and year. In order to do this, we'll have to create a datetime.datetime object using the year and month columns. We'll then be about to count up gun deaths by date, like we did by year in the last screen.\n",
    "\n",
    "As you may recall from an earlier mission, you can create a datetime object by specifying the year, month, and day keyword arguments:\n",
    "\n",
    "\n",
    "date = datetime(year=2016, month=12, day=1)\n",
    "\n",
    "We can use the month and year column of data to create a datetime. We'll specify a fixed day because we're missing that column in our data.\n",
    "\n",
    "If we create a datetime.datetime object for each row, we can then count up how many gun deaths occurred in each month and year using a similar procedure to what we did in the last screen."
   ]
  },
  {
   "cell_type": "markdown",
   "metadata": {},
   "source": [
    "Task: Use a list comprehension to create a datetime.datetime object for each row. Assign the result to dates.\n",
    "- The year column in the second element in each row.\n",
    "- The month column is the third element in each row.\n",
    "- Make sure to convert year and month to integers using int().\n",
    "- Pass year, month, and day=1 into the datetime.datetime() function.\n",
    "\n",
    "Display the first 5 rows in dates to verify everything worked."
   ]
  },
  {
   "cell_type": "code",
   "execution_count": 4,
   "metadata": {
    "collapsed": false
   },
   "outputs": [
    {
     "data": {
      "text/plain": [
       "[datetime.datetime(2012, 1, 1, 0, 0),\n",
       " datetime.datetime(2012, 1, 1, 0, 0),\n",
       " datetime.datetime(2012, 1, 1, 0, 0),\n",
       " datetime.datetime(2012, 2, 1, 0, 0),\n",
       " datetime.datetime(2012, 2, 1, 0, 0)]"
      ]
     },
     "execution_count": 4,
     "metadata": {},
     "output_type": "execute_result"
    }
   ],
   "source": [
    "# Solution: \n",
    "import datetime\n",
    "dates = [datetime.datetime(year=int(row[1]),month=int(row[2]),day=1) for row in data_noheader]\n",
    "dates[:5]"
   ]
  },
  {
   "cell_type": "markdown",
   "metadata": {},
   "source": [
    "Task: \n",
    "Count up how many times each unique date occurs in dates. Assign the result to date_counts.\n",
    "- This follows a similar procedure to what we did in the last screen with year_counts.\n",
    "\n",
    "Display date_counts."
   ]
  },
  {
   "cell_type": "code",
   "execution_count": 5,
   "metadata": {
    "collapsed": false
   },
   "outputs": [
    {
     "data": {
      "text/plain": [
       "{datetime.datetime(2012, 1, 1, 0, 0): 2758,\n",
       " datetime.datetime(2012, 2, 1, 0, 0): 2357,\n",
       " datetime.datetime(2012, 3, 1, 0, 0): 2743,\n",
       " datetime.datetime(2012, 4, 1, 0, 0): 2795,\n",
       " datetime.datetime(2012, 5, 1, 0, 0): 2999,\n",
       " datetime.datetime(2012, 6, 1, 0, 0): 2826,\n",
       " datetime.datetime(2012, 7, 1, 0, 0): 3026,\n",
       " datetime.datetime(2012, 8, 1, 0, 0): 2954,\n",
       " datetime.datetime(2012, 9, 1, 0, 0): 2852,\n",
       " datetime.datetime(2012, 10, 1, 0, 0): 2733,\n",
       " datetime.datetime(2012, 11, 1, 0, 0): 2729,\n",
       " datetime.datetime(2012, 12, 1, 0, 0): 2791,\n",
       " datetime.datetime(2013, 1, 1, 0, 0): 2864,\n",
       " datetime.datetime(2013, 2, 1, 0, 0): 2375,\n",
       " datetime.datetime(2013, 3, 1, 0, 0): 2862,\n",
       " datetime.datetime(2013, 4, 1, 0, 0): 2798,\n",
       " datetime.datetime(2013, 5, 1, 0, 0): 2806,\n",
       " datetime.datetime(2013, 6, 1, 0, 0): 2920,\n",
       " datetime.datetime(2013, 7, 1, 0, 0): 3079,\n",
       " datetime.datetime(2013, 8, 1, 0, 0): 2859,\n",
       " datetime.datetime(2013, 9, 1, 0, 0): 2742,\n",
       " datetime.datetime(2013, 10, 1, 0, 0): 2808,\n",
       " datetime.datetime(2013, 11, 1, 0, 0): 2758,\n",
       " datetime.datetime(2013, 12, 1, 0, 0): 2765,\n",
       " datetime.datetime(2014, 1, 1, 0, 0): 2651,\n",
       " datetime.datetime(2014, 2, 1, 0, 0): 2361,\n",
       " datetime.datetime(2014, 3, 1, 0, 0): 2684,\n",
       " datetime.datetime(2014, 4, 1, 0, 0): 2862,\n",
       " datetime.datetime(2014, 5, 1, 0, 0): 2864,\n",
       " datetime.datetime(2014, 6, 1, 0, 0): 2931,\n",
       " datetime.datetime(2014, 7, 1, 0, 0): 2884,\n",
       " datetime.datetime(2014, 8, 1, 0, 0): 2970,\n",
       " datetime.datetime(2014, 9, 1, 0, 0): 2914,\n",
       " datetime.datetime(2014, 10, 1, 0, 0): 2865,\n",
       " datetime.datetime(2014, 11, 1, 0, 0): 2756,\n",
       " datetime.datetime(2014, 12, 1, 0, 0): 2857}"
      ]
     },
     "execution_count": 5,
     "metadata": {},
     "output_type": "execute_result"
    }
   ],
   "source": [
    "# Solution: \n",
    "date_counts = {}\n",
    "for date in dates:\n",
    "    if date in date_counts:\n",
    "        date_counts[date] += 1\n",
    "    else:\n",
    "        date_counts[date] = 1\n",
    "date_counts"
   ]
  },
  {
   "cell_type": "markdown",
   "metadata": {
    "collapsed": false
   },
   "source": [
    "### Exploring Gun Deaths by Gender and Race\n",
    "\n",
    "The sex and race columns contain potentially interesting information on how gun deaths in the US vary by gender and race. Exploring both of these columns can be done with a similar dictionary counting technique to what we did earlier."
   ]
  },
  {
   "cell_type": "markdown",
   "metadata": {},
   "source": [
    "Task: Count up how many times each item in the sex column occurs.\n",
    "- Assign the result to sex_counts.\n",
    "\n",
    "Count up how many times each item in the race column occurs.\n",
    "- Assign the result to race_counts.\n",
    "\n",
    "Display race_counts and sex_counts to verify your work, and see if you can spot any patterns."
   ]
  },
  {
   "cell_type": "code",
   "execution_count": 7,
   "metadata": {
    "collapsed": false
   },
   "outputs": [
    {
     "name": "stdout",
     "output_type": "stream",
     "text": [
      "{'M': 86349, 'F': 14449}\n"
     ]
    }
   ],
   "source": [
    "# Solution: \n",
    "sex = [row[5] for row in data_noheader]\n",
    "sex_counts ={}\n",
    "for gender in sex:\n",
    "    if gender in sex_counts:\n",
    "        sex_counts[gender] += 1\n",
    "    else:\n",
    "        sex_counts[gender] = 1\n",
    "print(sex_counts)"
   ]
  },
  {
   "cell_type": "code",
   "execution_count": 8,
   "metadata": {
    "collapsed": false
   },
   "outputs": [
    {
     "name": "stdout",
     "output_type": "stream",
     "text": [
      "{'Native American/Native Alaskan': 917, 'Hispanic': 9022, 'Asian/Pacific Islander': 1326, 'White': 66237, 'Black': 23296}\n"
     ]
    }
   ],
   "source": [
    "# Solution, cont:\n",
    "races = [row[7] for row in data_noheader]\n",
    "race_counts = {}\n",
    "for race in races:\n",
    "    if race in race_counts:\n",
    "        race_counts[race] += 1\n",
    "    else:\n",
    "        race_counts[race] = 1\n",
    "print(race_counts)"
   ]
  },
  {
   "cell_type": "markdown",
   "metadata": {},
   "source": [
    "Task: Write a markdown cell detailing what you've learned so far, and what you think might need further examination."
   ]
  },
  {
   "cell_type": "markdown",
   "metadata": {},
   "source": [
    "#### Solution: \n",
    "Some things that seem apparent in the data:\n",
    "- Appears that there are disproportionately more gun deaths during the Summer months.\n",
    "- Appears that white, black, and hispanic individuals are involved in most gun deaths, in that order.  However, unclear whether this is disproportionate relative to percentages of each race in our population.\n",
    "- Males represent a much larger proportion of people involved in gun deaths."
   ]
  },
  {
   "cell_type": "markdown",
   "metadata": {},
   "source": [
    "### Exploring Country Demographics\n",
    "\n",
    "We explored gun deaths by race in the past screen. However, our analysis only gives us the total number of gun deaths by race in the US. Unless we know the proportion of each race in the US, we won't be able to meaningfully compare those numbers. What we really want to get is a rate of gun deaths per 100000 people of each race. In order to do this, we'll need to read in data about what percentage of the US population falls into each racial category. Luckily, we can import some census data to help us out.\n",
    "\n",
    "The data contains information on the total population of the US, as well as the total population of each racial group in the US. The data is stored in the census.csv file, and only consists of two rows.\n",
    "\n",
    "The first row is a header row, and the second row consists of population counts. We'll need to read this file in using the csv.reader() function."
   ]
  },
  {
   "cell_type": "markdown",
   "metadata": {},
   "source": [
    "Task: \n",
    "\n",
    "Read in census.csv, and convert to a list of lists. Assign the result to the census variable.\n",
    "\n",
    "Display census to verify your work."
   ]
  },
  {
   "cell_type": "code",
   "execution_count": 12,
   "metadata": {
    "collapsed": false
   },
   "outputs": [
    {
     "data": {
      "text/plain": [
       "[['Id',\n",
       "  'Year',\n",
       "  'Id',\n",
       "  'Sex',\n",
       "  'Id',\n",
       "  'Hispanic Origin',\n",
       "  'Id',\n",
       "  'Id2',\n",
       "  'Geography',\n",
       "  'Total',\n",
       "  'Race Alone - White',\n",
       "  'Race Alone - Hispanic',\n",
       "  'Race Alone - Black or African American',\n",
       "  'Race Alone - American Indian and Alaska Native',\n",
       "  'Race Alone - Asian',\n",
       "  'Race Alone - Native Hawaiian and Other Pacific Islander',\n",
       "  'Two or More Races'],\n",
       " ['cen42010',\n",
       "  'April 1, 2010 Census',\n",
       "  'totsex',\n",
       "  'Both Sexes',\n",
       "  'tothisp',\n",
       "  'Total',\n",
       "  '0100000US',\n",
       "  '',\n",
       "  'United States',\n",
       "  '308745538',\n",
       "  '197318956',\n",
       "  '44618105',\n",
       "  '40250635',\n",
       "  '3739506',\n",
       "  '15159516',\n",
       "  '674625',\n",
       "  '6984195']]"
      ]
     },
     "execution_count": 12,
     "metadata": {},
     "output_type": "execute_result"
    }
   ],
   "source": [
    "# Solution: \n",
    "a = open('census.csv', 'r')\n",
    "b = csv.reader(a)\n",
    "census = list(b)\n",
    "census"
   ]
  },
  {
   "cell_type": "markdown",
   "metadata": {},
   "source": [
    "### Exploring Gun Deaths Per Capita by Race\n",
    "\n",
    "Earlier, we computed the number of gun deaths per race, and created a dictionary, race_counts, that looked like this:\n",
    "\n",
    "\n",
    "{\n",
    "     'Asian/Pacific Islander': 1326,\n",
    "     'Black': 23296,\n",
    "     'Hispanic': 9022,\n",
    "     'Native American/Native Alaskan': 917,\n",
    "     'White': 66237\n",
    "}\n",
    "\n",
    "In order to get from the raw counts of gun deaths by race to a rate of gun deaths per 100000 people in each race, we'll need to divide the total number of gun deaths by the population of each race. From the census dataset, we know that the number of people in the White racial category is 197318956. We'd divide 66237 by 197318956:\n",
    "\n",
    "\n",
    "white_gun_death_rate = 66237 / 197318956\n",
    "\n",
    "This gives us the percentage chance that a given person in the White census race category would have been killed by a gun in the US from 2012 to 2014. If you do this computation, you'll see that the rate is a very small number, 0.0003356849303419181. It's for this reason that it's typical to express crime statistics as the \"rate per 100000\". This tells you the number of people in a given group out of every 100000 that were killed by guns in the US. To get this, we just multiply by 100000:\n",
    "\n",
    "\n",
    "rate_per_hundredk = 0.0003356849303419181 * 100000\n",
    "\n",
    "This gives us 33.56, which we can interpret as \"33.56 out of every 100000 people in the White census race category in the US were killed by guns between 2012 and 2014\".\n",
    "\n",
    "We'll need to calculate these same rates for each racial category. The only stumbling block is that the racial categories are named slightly differently in census and in data. We'll need to manually construct a dictionary that allows us to map between them, and perform the division. \n",
    "\n",
    "Here's a list of the race name in data, and the corresponding race name in census:\n",
    "- Asian/Pacific Islander -- Race Alone - Asian plus Race Alone - Native Hawaiian and Other Pacific Islander.\n",
    "- Black -- Race Alone - Black or African American.\n",
    "- Hispanic -- Race Alone - Hispanic\n",
    "- Native American/Native Alaskan -- Race Alone - American Indian and Alaska Native\n",
    "- White -- Race Alone - White\n",
    "\n",
    "We'll need to create a dictionary that has each race name from data as a key, and has the population count for the races from census as the values."
   ]
  },
  {
   "cell_type": "markdown",
   "metadata": {},
   "source": [
    "Task: Manually create a dictionary, mapping that maps each key from race_counts to the population count of the race from census.\n",
    "- The keys in the dictionary should be Asian/Pacific Islander, Black, Native American/Native Alaskan, Hispanic, and White.\n",
    "- In the case of Asian/Pacific Islander, you'll need to add the counts from census for Race Alone - Asian, and Race Alone - Native Hawaiian and Other Pacific Islander."
   ]
  },
  {
   "cell_type": "code",
   "execution_count": 13,
   "metadata": {
    "collapsed": false
   },
   "outputs": [
    {
     "data": {
      "text/plain": [
       "{'Asian/Pacific Islander': 15834141,\n",
       " 'Black': 40250635,\n",
       " 'Hispanic': 44618105,\n",
       " 'Native American/Native Alaskan': 3739506,\n",
       " 'White': 197318956}"
      ]
     },
     "execution_count": 13,
     "metadata": {},
     "output_type": "execute_result"
    }
   ],
   "source": [
    "# Solution: \n",
    "CAPI = 674625+15159516\n",
    "CB = 40250635\n",
    "CNA = 3739506\n",
    "CH = 44618105\n",
    "CW = 197318956\n",
    "mapping = {'Asian/Pacific Islander':CAPI,'Black':CB,'Native American/Native Alaskan':CNA,'Hispanic':CH,'White':CW}\n",
    "mapping"
   ]
  },
  {
   "cell_type": "markdown",
   "metadata": {},
   "source": [
    "Task:\n",
    "- Create an empty dictionary, race_per_hundredk.\n",
    "\n",
    "- Loop through each key in race_counts.\n",
    "    - Divide the value associated with the key in race_counts by the value associated with the key in mapping.\n",
    "    - Multiply by 100000.\n",
    "    - Assign the result to the same key in race_per_hundredk.\n",
    "    \n",
    "- When you're done, race_per_hundredk should contain the rate of gun deaths per 100000 people for each racial category.\n",
    "- Print race_per_hundredk to verify your work.   "
   ]
  },
  {
   "cell_type": "code",
   "execution_count": 15,
   "metadata": {
    "collapsed": false
   },
   "outputs": [
    {
     "name": "stdout",
     "output_type": "stream",
     "text": [
      "{'Native American/Native Alaskan': 24.521955573811088, 'Hispanic': 20.220491210910907, 'Asian/Pacific Islander': 8.374309664161762, 'White': 33.56849303419181, 'Black': 57.8773477735196}\n"
     ]
    }
   ],
   "source": [
    "# Solution: \n",
    "race_per_hundredk = {}\n",
    "for k,v in race_counts.items():\n",
    "    race_per_hundredk[k] = (v / mapping[k]) * 100000\n",
    "    \n",
    "print(race_per_hundredk)"
   ]
  },
  {
   "cell_type": "markdown",
   "metadata": {},
   "source": [
    "### Exploring Gun Homicides\n",
    "\n",
    "We can filter our results, and restrict them to the Homicide intent. This will tell us what the gun-related murder rate per 100000 people in each racial category is. In order to do this, we'll need to redo our work in generating race_counts, but only count rows where the intent was Homicide.\n",
    "\n",
    "We can do this by first extracting the intent column, then using the enumerate() function to loop through each index and value in the race column. If the value in the same position in intents is Homicide, we'll count the value in the race column.\n",
    "\n",
    "Finally, we'll use the mapping dictionary to convert from raw counts to rates."
   ]
  },
  {
   "cell_type": "markdown",
   "metadata": {},
   "source": [
    "Task: \n",
    "- Extract the intent column using a list comprehension. The intent column is the fourth column in data.\n",
    "    - Assign the result to intents.\n",
    "- Extract the race column using a list comprehension. The race column is the eighth column in data.\n",
    "    - Assign the result to races.\n",
    "- Create an empty dictionary called homicide_race_counts\n",
    "- Use the enumerate() function to loop through each item in races. The position should be assigned to the loop variable i, and the value to the loop variable race.\n",
    "    - Check the value at position i in intents.\n",
    "    - If the value at position i in intents is Homicide:\n",
    "        - If the key race doesn't exist in homicide_race_counts, create it.\n",
    "        - Add 1 to the value associated with race in homicide_race_counts.\n",
    "- When you're done, homicide_race_counts should have one key for each of the racial categories in data. The associated value should be the number of gun deaths by homicide for that race.\n",
    "- Perform the same procedure we did in the last screen using mapping on homicide_race_counts to get from raw numbers to rates per 100000.\n",
    "- Display homicide_race_counts to verify your work."
   ]
  },
  {
   "cell_type": "code",
   "execution_count": 17,
   "metadata": {
    "collapsed": false
   },
   "outputs": [
    {
     "data": {
      "text/plain": [
       "{'Asian/Pacific Islander': 559,\n",
       " 'Black': 19510,\n",
       " 'Hispanic': 5634,\n",
       " 'Native American/Native Alaskan': 326,\n",
       " 'White': 9147}"
      ]
     },
     "execution_count": 17,
     "metadata": {},
     "output_type": "execute_result"
    }
   ],
   "source": [
    "# Solution:\n",
    "intents = [row[3] for row in data_noheader]\n",
    "races = [row[7] for row in data_noheader]\n",
    "homicide_rate_counts = {}\n",
    "for i, race in enumerate(races):\n",
    "    if intents[i] == 'Homicide':\n",
    "        if race in homicide_rate_counts:\n",
    "            homicide_rate_counts[race] += 1\n",
    "        else:\n",
    "            homicide_rate_counts[race] = 1\n",
    "homicide_rate_counts"
   ]
  },
  {
   "cell_type": "code",
   "execution_count": 50,
   "metadata": {
    "collapsed": false
   },
   "outputs": [
    {
     "data": {
      "text/plain": [
       "{'Asian/Pacific Islander': 3.530346230970155,\n",
       " 'Black': 48.471284987180944,\n",
       " 'Hispanic': 12.627161104219914,\n",
       " 'Native American/Native Alaskan': 8.717729026240365,\n",
       " 'White': 4.6356417981453335}"
      ]
     },
     "execution_count": 50,
     "metadata": {},
     "output_type": "execute_result"
    }
   ],
   "source": [
    "# Additional analysis step looking at gun homicide rate per 100000.\n",
    "race_per_hundredk = {}\n",
    "for k,v in homicide_rate_counts.items():\n",
    "    race_per_hundredk[k] = (v / mapping[k]) * 100000\n",
    "    \n",
    "race_per_hundredk"
   ]
  },
  {
   "cell_type": "markdown",
   "metadata": {},
   "source": [
    "Task:\n",
    "- Write up your findings in a markdown cell.\n",
    "- Write up any next steps you want to pursue with the data in a markdown cell."
   ]
  },
  {
   "cell_type": "markdown",
   "metadata": {},
   "source": [
    "#### Solution: \n",
    "It appears that gun-related deaths disproportionately impact black and hispanic individuals.\n",
    "\n",
    "Gun deaths tend to occur more during the Summer months.\n",
    "\n",
    "It would be interesting to know more about the geographic breakdown of where these deaths are occuring and understand more about other factors impacting deaths.  \n",
    "\n",
    "Other types of death including suicide would be interesting to understand more about as well."
   ]
  },
  {
   "cell_type": "markdown",
   "metadata": {},
   "source": [
    "### Potential Next Steps:\n",
    "\n",
    "That's it for the guided steps! We recommend exploring the data more on your own.\n",
    "\n",
    "Here are some potential next steps:\n",
    "- Figure out the link, if any, between month and homicide rate.\n",
    "- Explore the homicide rate by gender.\n",
    "- Explore the rates of other intents, like Accidental, by gender and race.\n",
    "Find out if gun death rates correlate to location and education."
   ]
  }
 ],
 "metadata": {
  "kernelspec": {
   "display_name": "Python 3",
   "language": "python",
   "name": "python3"
  },
  "language_info": {
   "codemirror_mode": {
    "name": "ipython",
    "version": 3
   },
   "file_extension": ".py",
   "mimetype": "text/x-python",
   "name": "python",
   "nbconvert_exporter": "python",
   "pygments_lexer": "ipython3",
   "version": "3.4.3"
  }
 },
 "nbformat": 4,
 "nbformat_minor": 0
}
