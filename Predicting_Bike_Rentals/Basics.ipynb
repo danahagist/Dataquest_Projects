{
 "cells": [
  {
   "cell_type": "markdown",
   "metadata": {
    "collapsed": true
   },
   "source": [
    "# Guided Project: Predicting Bike Rentals\n",
    "## Created by: Dana Hagist"
   ]
  },
  {
   "cell_type": "markdown",
   "metadata": {},
   "source": [
    "### Introduction\n",
    "\n",
    "Many American cities have communal bike sharing stations where you can rent bicycles by the hour or day. Washington, D.C. is one of these cities. The District collects detailed data on the number of bicycles people rent by the hour and day.\n",
    "\n",
    "Hadi Fanaee-T at the University of Porto compiled this data into a CSV file, which you'll be working with in this project. The file contains 17380 rows, with each row representing the number of bike rentals for a single hour of a single day. You can download the data from the University of California, Irvine's website at http://archive.ics.uci.edu/ml/datasets/Bike+Sharing+Dataset.\n",
    "\n",
    "Here are the descriptions for the relevant columns:\n",
    "\n",
    "- instant - A unique sequential ID number for each row\n",
    "- dteday - The date of the rentals\n",
    "- season - The season in which the rentals occurred\n",
    "- yr - The year the rentals occurred\n",
    "- mnth - The month the rentals occurred\n",
    "- hr - The hour the rentals occurred\n",
    "- holiday - Whether or not the day was a holiday\n",
    "- weekday - The day of the week (as a number, 0 to 7)\n",
    "- workingday - Whether or not the day was a working day\n",
    "- weathersit - The weather (as a categorical variable)\n",
    "- temp - The temperature, on a 0-1 scale\n",
    "- atemp - The adjusted temperature\n",
    "- hum - The humidity, on a 0-1 scale\n",
    "- windspeed - The wind speed, on a 0-1 scale\n",
    "- casual - The number of casual riders (people who hadn't previously signed up with the bike sharing program)\n",
    "- registered - The number of registered riders (people who had already signed up)\n",
    "- cnt - The total number of bike rentals (casual + registered)\n",
    "\n",
    "In this project, you'll try to predict the total number of bikes people rented in a given hour. You'll predict the cnt column using all of the other columns, except for casual and registered. To accomplish this, you'll create a few different machine learning models and evaluate their performance."
   ]
  },
  {
   "cell_type": "markdown",
   "metadata": {},
   "source": [
    "Task(s):\n",
    "\n",
    "- Use the pandas library to read bike_rental_hour.csv into the dataframe bike_rentals.\n",
    "- Print out the first few rows of bike_rentals and take a look at the data.\n",
    "- Make a histogram of the cnt column of bike_rentals, and take a look at the distribution of total rentals.\n",
    "- Use the corr method on the bike_rentals dataframe to explore how each column is correlated with cnt."
   ]
  },
  {
   "cell_type": "code",
   "execution_count": 4,
   "metadata": {
    "collapsed": false
   },
   "outputs": [
    {
     "name": "stdout",
     "output_type": "stream",
     "text": [
      "   instant      dteday  season  yr  mnth  hr  holiday  weekday  workingday  \\\n",
      "0        1  2011-01-01       1   0     1   0        0        6           0   \n",
      "1        2  2011-01-01       1   0     1   1        0        6           0   \n",
      "2        3  2011-01-01       1   0     1   2        0        6           0   \n",
      "3        4  2011-01-01       1   0     1   3        0        6           0   \n",
      "4        5  2011-01-01       1   0     1   4        0        6           0   \n",
      "\n",
      "   weathersit  temp   atemp   hum  windspeed  casual  registered  cnt  \n",
      "0           1  0.24  0.2879  0.81        0.0       3          13   16  \n",
      "1           1  0.22  0.2727  0.80        0.0       8          32   40  \n",
      "2           1  0.22  0.2727  0.80        0.0       5          27   32  \n",
      "3           1  0.24  0.2879  0.75        0.0       3          10   13  \n",
      "4           1  0.24  0.2879  0.75        0.0       0           1    1  \n"
     ]
    }
   ],
   "source": [
    "# Solution(s):\n",
    "\n",
    "import pandas as pd\n",
    "import matplotlib.pyplot as plt\n",
    "\n",
    "bike_rentals = pd.read_csv('bike_rental_hour.csv')\n",
    "\n",
    "print(bike_rentals.head())"
   ]
  },
  {
   "cell_type": "code",
   "execution_count": 5,
   "metadata": {
    "collapsed": false
   },
   "outputs": [
    {
     "data": {
      "text/plain": [
       "<matplotlib.axes._subplots.AxesSubplot at 0x7f2d8b791470>"
      ]
     },
     "execution_count": 5,
     "metadata": {},
     "output_type": "execute_result"
    },
    {
     "data": {
      "image/png": "[encoded data removed]",
      "text/plain": [
       "<matplotlib.figure.Figure at 0x7f2d8b7c4198>"
      ]
     },
     "metadata": {},
     "output_type": "display_data"
    }
   ],
   "source": [
    "%matplotlib inline\n",
    "bike_rentals['cnt'].hist()"
   ]
  },
  {
   "cell_type": "code",
   "execution_count": 24,
   "metadata": {
    "collapsed": false
   },
   "outputs": [
    {
     "data": {
      "text/plain": [
       "instant       0.278379\n",
       "season        0.178056\n",
       "yr            0.250495\n",
       "mnth          0.120638\n",
       "hr            0.394071\n",
       "holiday      -0.030927\n",
       "weekday       0.026900\n",
       "workingday    0.030284\n",
       "weathersit   -0.142426\n",
       "temp          0.404772\n",
       "atemp         0.400929\n",
       "hum          -0.322911\n",
       "windspeed     0.093234\n",
       "casual        0.694564\n",
       "registered    0.972151\n",
       "cnt           1.000000\n",
       "time_lbl     -0.378318\n",
       "Name: cnt, dtype: float64"
      ]
     },
     "execution_count": 24,
     "metadata": {},
     "output_type": "execute_result"
    }
   ],
   "source": [
    "bike_rentals.corr()['cnt']"
   ]
  },
  {
   "cell_type": "markdown",
   "metadata": {},
   "source": [
    "### Feature Engineering\n",
    "\n",
    "It can often be helpful to calculate features before applying machine learning models. Features can enhance the accuracy of models by introducing new information, or distilling existing information.\n",
    "\n",
    "For example, the hr column in bike_rentals contains the hours during which bikes are rented, from 1 to 24. A machine will treat each hour differently, without understanding that certain hours are related. We can introduce some order into the process by creating a new column with labels for morning, afternoon, evening, and night. This will bundle similar times together, enabling the model to make better decisions."
   ]
  },
  {
   "cell_type": "markdown",
   "metadata": {},
   "source": [
    "Task(s):\n",
    "- Write a function called assign_label that takes in a numeric value for an hour, and returns:\n",
    "    - 1 if the hour is from 6 to 12\n",
    "    - 2 if the hour is from 12 to 18\n",
    "    - 3 if the hour is from 18 to 24\n",
    "    - 4 if the hour is from 0 to 6\n",
    "- Use the apply method on series objects to apply the function to each item in the hr column.\n",
    "- Assign the result to the time_label column of bike_rentals."
   ]
  },
  {
   "cell_type": "code",
   "execution_count": 15,
   "metadata": {
    "collapsed": false
   },
   "outputs": [
    {
     "name": "stdout",
     "output_type": "stream",
     "text": [
      "   instant      dteday  season  yr  mnth  hr  holiday  weekday  workingday  \\\n",
      "0        1  2011-01-01       1   0     1   0        0        6           0   \n",
      "1        2  2011-01-01       1   0     1   1        0        6           0   \n",
      "2        3  2011-01-01       1   0     1   2        0        6           0   \n",
      "3        4  2011-01-01       1   0     1   3        0        6           0   \n",
      "4        5  2011-01-01       1   0     1   4        0        6           0   \n",
      "5        6  2011-01-01       1   0     1   5        0        6           0   \n",
      "6        7  2011-01-01       1   0     1   6        0        6           0   \n",
      "7        8  2011-01-01       1   0     1   7        0        6           0   \n",
      "8        9  2011-01-01       1   0     1   8        0        6           0   \n",
      "9       10  2011-01-01       1   0     1   9        0        6           0   \n",
      "\n",
      "   weathersit  temp   atemp   hum  windspeed  casual  registered  cnt  \\\n",
      "0           1  0.24  0.2879  0.81     0.0000       3          13   16   \n",
      "1           1  0.22  0.2727  0.80     0.0000       8          32   40   \n",
      "2           1  0.22  0.2727  0.80     0.0000       5          27   32   \n",
      "3           1  0.24  0.2879  0.75     0.0000       3          10   13   \n",
      "4           1  0.24  0.2879  0.75     0.0000       0           1    1   \n",
      "5           2  0.24  0.2576  0.75     0.0896       0           1    1   \n",
      "6           1  0.22  0.2727  0.80     0.0000       2           0    2   \n",
      "7           1  0.20  0.2576  0.86     0.0000       1           2    3   \n",
      "8           1  0.24  0.2879  0.75     0.0000       1           7    8   \n",
      "9           1  0.32  0.3485  0.76     0.0000       8           6   14   \n",
      "\n",
      "   time_lbl  \n",
      "0         4  \n",
      "1         4  \n",
      "2         4  \n",
      "3         4  \n",
      "4         4  \n",
      "5         4  \n",
      "6         1  \n",
      "7         1  \n",
      "8         1  \n",
      "9         1  \n"
     ]
    }
   ],
   "source": [
    "# Solution(s):\n",
    "\n",
    "def assign_label(hour_value):\n",
    "    if (6 <= hour_value < 12):\n",
    "        hour_lbl = 1\n",
    "    elif (12 <= hour_value < 18):\n",
    "        hour_lbl = 2\n",
    "    elif(18 <= hour_value < 24):\n",
    "        hour_lbl = 3\n",
    "    else:\n",
    "        hour_lbl = 4\n",
    "    return hour_lbl\n",
    "\n",
    "# Applying the above function to the 'hr' column to create 'time_lbl'\n",
    "bike_rentals['time_lbl'] = bike_rentals['hr'].apply(assign_label)\n",
    "print(bike_rentals.head(10))     \n"
   ]
  },
  {
   "cell_type": "markdown",
   "metadata": {},
   "source": [
    "### Splitting into Train and Test Sets\n",
    "\n",
    "Before you can begin applying machine learning algorithms, you'll need to split the data into training and testing sets. This will enable you to train an algorithm using the training set, and evaluate its accuracy on the testing set. If you train an algorithm on the training data, then evaluate its performance on the same data, you can get an unrealistically low error value, due to overfitting."
   ]
  },
  {
   "cell_type": "markdown",
   "metadata": {},
   "source": [
    "Task(s):\n",
    "\n",
    "- Based on your explorations of the cnt column, pick an error metric you want to use to evaluate the performance of the machine learning algorithms. Explain why you chose this metric in a markdown cell.\n",
    "- Select 80% of the rows in bike_rentals to be part of the training set using the sample method on bike_rentals. Assign the result to train.\n",
    "- Select the rows that are in bike_rentals but not in train to be in the testing set. Assign the result to test.\n",
    "    - This line will generate a Boolean series that's False when a row in bike_rentals isn't found in train: bike_rentals.index.isin(train.index)\n",
    "    - This line will select any rows in bike_rentals that aren't found in train to be in the testing set: bike_rentals.loc[~bike_rentals.index.isin(train.index)]\n"
   ]
  },
  {
   "cell_type": "code",
   "execution_count": 35,
   "metadata": {
    "collapsed": false
   },
   "outputs": [
    {
     "name": "stdout",
     "output_type": "stream",
     "text": [
      "0.7999884918579895\n"
     ]
    },
    {
     "data": {
      "text/plain": [
       "count    17379.000000\n",
       "mean       189.463088\n",
       "std        181.387599\n",
       "min          1.000000\n",
       "25%         40.000000\n",
       "50%        142.000000\n",
       "75%        281.000000\n",
       "max        977.000000\n",
       "Name: cnt, dtype: float64"
      ]
     },
     "execution_count": 35,
     "metadata": {},
     "output_type": "execute_result"
    }
   ],
   "source": [
    "# Solution(s):\n",
    "\n",
    "# Will use the Mean-Squared Error as our error metric as it works well \n",
    "# on continuous, numeric data\n",
    "\n",
    "train = bike_rentals.sample(frac = .8)\n",
    "\n",
    "test = bike_rentals.loc[~bike_rentals.index.isin(train.index)]\n",
    "\n",
    "# Confirming we have 80% of our observations in the training set\n",
    "print(len(train)/len(bike_rentals))\n",
    "\n",
    "# Exploring 'cnt' column\n",
    "bike_rentals['cnt'].describe()"
   ]
  },
  {
   "cell_type": "markdown",
   "metadata": {},
   "source": [
    "### Applying Linear Regression\n",
    "\n",
    "Now that you've done some exploration and manipulation, you're ready to apply linear regression to the data. Linear regression will probably work fairly well on this data, given that many of the columns are highly correlated with cnt.\n",
    "\n",
    "As you learned in earlier missions, linear regression works best when predictors are linearly correlated to the target and also independent - in other words, they don't change meaning when we combine them with each other. The good thing about linear regression is that it's fairly resistant to overfitting because it's straightforward. It also can be prone to underfitting the data, however, and not building a powerful enough model. This means that linear regression usually isn't the most accurate option.\n",
    "\n",
    "You'll need to ignore the casual and registered columns because cnt is derived from them. If you're trying to predict the number of people who rent bikes in a given hour (cnt), it doesn't make sense that you'd already know casual or registered, because those numbers are added together to get cnt."
   ]
  },
  {
   "cell_type": "markdown",
   "metadata": {},
   "source": [
    "Task(s):\n",
    "\n",
    "- Create a list of predictor columns to use in training and predictions.\n",
    "    - At a minimum, this list should exclude the cnt, casual, dteday, and registered columns.\n",
    "    - Feel free to remove other columns you don't think will be useful for the predictions.\n",
    "- Use the LinearRegression class from sklearn to train a machine learning algorithm on train.\n",
    "    - Use only the columns in the list of predictors for this.\n",
    "- Make predictions using the LinearRegression class on test.\n",
    "    - Use the exact same predictor columns here.\n",
    "- Calculate the error between the predictions and the actual values.\n",
    "- Write your thoughts about the predictions and the error in a markdown cell.\n"
   ]
  },
  {
   "cell_type": "code",
   "execution_count": 34,
   "metadata": {
    "collapsed": false
   },
   "outputs": [
    {
     "name": "stdout",
     "output_type": "stream",
     "text": [
      "Training Error:  17718.466590282504 Test Error:  16517.28256857656\n",
      "Test RMSE:  128.51958048708593\n"
     ]
    }
   ],
   "source": [
    "#Solution(s):\n",
    "\n",
    "from sklearn.linear_model import LinearRegression\n",
    "\n",
    "features = list(train.columns)\n",
    "features.remove(\"cnt\")\n",
    "features.remove(\"casual\")\n",
    "features.remove(\"registered\")\n",
    "features.remove(\"dteday\")\n",
    "\n",
    "# fitting and predicting\n",
    "lm = LinearRegression()\n",
    "lm.fit(train[features],train['cnt'])\n",
    "lm_predict_tr = lm.predict(train[features])\n",
    "lm_predict_te = lm.predict(test[features])\n",
    "\n",
    "#calculating errors\n",
    "import numpy as np\n",
    "tr_error = np.mean((lm_predict_tr - train['cnt'])**2)\n",
    "te_error = np.mean((lm_predict_te - test['cnt'])**2)\n",
    "\n",
    "print(\"Training Error: \",tr_error,\"Test Error: \", te_error)\n",
    "\n",
    "# Printing RMSE on test\n",
    "test_RMSE = np.sqrt(te_error)\n",
    "print(\"Test RMSE: \", test_RMSE)\n",
    "\n"
   ]
  },
  {
   "cell_type": "markdown",
   "metadata": {},
   "source": [
    "### Thoughts on Error\n",
    "\n",
    "Looking at the distribution of the 'cnt' column, along with the mean and the 50% percentile, it's evident that there are some very large outliers in the data, which may be causing issues for our predictions.  Reason being, linear regression seeks to minimize the sum of squared errors, so for outliers, those errors would have an impact on the line we fit."
   ]
  },
  {
   "cell_type": "markdown",
   "metadata": {},
   "source": [
    "### Applying a Decision Tree\n",
    "\n",
    "Now you're ready to apply the decision tree algorithm. You'll be able to compare its error with the error from linear regression, which will enable you to pick the right algorithm for this data set.\n",
    "\n",
    "Decision trees tend to predict outcomes much more reliably than linear regression models. Because a decision tree is a fairly complex model, it also tends to overfit, particularly when we don't tweak parameters like maximum depth and minimum number of samples per leaf. Decision trees are also prone to instability -- small changes in the input data can result in a very different output model."
   ]
  },
  {
   "cell_type": "markdown",
   "metadata": {},
   "source": [
    "Task(s):\n",
    "    \n",
    "- Use the DecisionTreeRegressor class to fit a decision tree algorithm to the train data.\n",
    "- Make predictions using the DecisionTreeRegressor class on test.\n",
    "- Calculate the error between the predictions and the actual values.\n",
    "- Experiment with various parameters of the DecisionTreeRegressor class, including min_samples_leaf, to see if it changes the error.\n",
    "- Write your thoughts on the predictions and the error in a markdown cell."
   ]
  },
  {
   "cell_type": "code",
   "execution_count": 86,
   "metadata": {
    "collapsed": false
   },
   "outputs": [
    {
     "name": "stdout",
     "output_type": "stream",
     "text": [
      "2722.9130501778236\n"
     ]
    }
   ],
   "source": [
    "# Solution(s):\n",
    "from sklearn.tree import DecisionTreeRegressor\n",
    "\n",
    "dt = DecisionTreeRegressor(min_samples_leaf=5) \n",
    "dt.fit(train[features],train['cnt'])\n",
    "dt_predict_te = dt.predict(test[features])\n",
    "\n",
    "dt_error = np.mean((dt_predict_te - test[\"cnt\"]) ** 2)\n",
    "print(dt_error)"
   ]
  },
  {
   "cell_type": "markdown",
   "metadata": {},
   "source": [
    "### Thoughts on Error:\n",
    "\n",
    "It's pretty amazing to see the significance of the drop in error going from a linear regression model to a decision tree model, likely because there are non-linearities in the relationship between the independent variables and out 'cnt' target.  Next, we will see how using a random forest impacts our predictions."
   ]
  },
  {
   "cell_type": "markdown",
   "metadata": {},
   "source": [
    "### Applying a Random Forest\n",
    "\n",
    "You can now apply the random forest algorithm, which improves on the decision tree algorithm. Random forests tend to be much more accurate than simple models like linear regression. Due to the way random forests are constructed, they tend to overfit much less than decision trees. Random forests can still be prone to overfitting, though, so it's important to tune parameters like maximum depth and minimum samples per leaf."
   ]
  },
  {
   "cell_type": "markdown",
   "metadata": {},
   "source": [
    "Task(s):\n",
    "\n",
    "- Use the RandomForestRegressor class to fit a random forest algorithm to the train data.\n",
    "- Make predictions using the RandomForestRegressor class on test.\n",
    "- Calculate the error between the predictions and the actual values.\n",
    "- Experiment with various parameters of the RandomForestRegressor class, including min_samples_leaf, to see if it changes the error.\n",
    "- Write your thoughts on the predictions and the error in a markdown cell."
   ]
  },
  {
   "cell_type": "code",
   "execution_count": 104,
   "metadata": {
    "collapsed": false
   },
   "outputs": [
    {
     "name": "stdout",
     "output_type": "stream",
     "text": [
      "1918.831742647755\n"
     ]
    }
   ],
   "source": [
    "# Solution(s):\n",
    "\n",
    "from sklearn.ensemble import RandomForestRegressor\n",
    "\n",
    "rf = RandomForestRegressor(min_samples_leaf=4)\n",
    "rf.fit(train[features], train['cnt'])\n",
    "rf_predict_te = rf.predict(test[features])\n",
    "\n",
    "rf_error = np.mean((rf_predict_te - test['cnt'])**2)\n",
    "print(rf_error)"
   ]
  },
  {
   "cell_type": "markdown",
   "metadata": {},
   "source": [
    "### Thoughts on Error\n",
    "\n",
    "Once again, we can see that the error was significantly reduced as we implemented a Random Forest algorithm in order to predict bike rentals.  Considering we are still looking at squared errors, this is clearly a powerful means for prediction."
   ]
  },
  {
   "cell_type": "markdown",
   "metadata": {},
   "source": [
    "### Dataquest Concluding Remarks\n",
    "\n",
    "That's it for the guided steps! We recommend exploring the data more on your own.\n",
    "\n",
    "Here are some potential next steps:\n",
    "\n",
    "- Calculate additional features, such as:\n",
    "    - An index combining temperature, humidity, and wind speed\n",
    "- Try predicting casual and registered instead of cnt.\n"
   ]
  }
 ],
 "metadata": {
  "kernelspec": {
   "display_name": "Python 3",
   "language": "python",
   "name": "python3"
  },
  "language_info": {
   "codemirror_mode": {
    "name": "ipython",
    "version": 3
   },
   "file_extension": ".py",
   "mimetype": "text/x-python",
   "name": "python",
   "nbconvert_exporter": "python",
   "pygments_lexer": "ipython3",
   "version": "3.4.3"
  }
 },
 "nbformat": 4,
 "nbformat_minor": 0
}
