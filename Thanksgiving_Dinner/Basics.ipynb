{
 "cells": [
  {
   "cell_type": "markdown",
   "metadata": {},
   "source": [
    "# Analyzing Thanksgiving Dinner\n",
    "## Compiled By: Dana Hagist\n",
    "\n",
    "In this project, I'll be working with Jupyter notebook, and analyzing data on Thanksgiving dinner in the US.\n",
    "\n",
    "The dataset is stored in the thanksgiving.csv file. It contains 1058 responses to an online survey about what Americans eat for Thanksgiving dinner. Each survey respondent was asked questions about what they typically eat for Thanksgiving, along with some demographic questions, like their gender, income, and location. This dataset will allow us to discover regional and income-based patterns in what Americans eat for Thanksgiving dinner.\n",
    "\n",
    "The dataset has 65 columns, and 1058 rows. Most of the column names are questions, and most of the column values are string responses to the questions. Most of the columns are categorical, as a survey respondent had to select one of a few options. For example, one of the first column names is What is typically the main dish at your Thanksgiving dinner?. The potential responses are:\n",
    "\n",
    "- Turkey\n",
    "- Other (please specify)\n",
    "- Ham/Pork\n",
    " -Tofurkey\n",
    "- Chicken\n",
    "- Roast beef\n",
    "- I don't know\n",
    "- Turducken\n",
    "\n",
    "Most of the columns follow the same question/response format as the above. There are also quite a few NaN values in the columns, which occurred when a survey respondent didn't fill out a question because they didn't want to, or it didn't apply to them.\n",
    "\n",
    "Here are descriptions of some of the most important columns in the dataset:\n",
    "- RespondentID -- a unique ID of the respondent to the survey.\n",
    "- Do you celebrate Thanksgiving? -- a Yes/No reponse to the question.\n",
    "- How would you describe where you live? -- responses are Suburban, Urban, and Rural.\n",
    "- Age -- resposes are one of several categories, such as 18-29, and 30-44.\n",
    "- How much total combined money did all members of your HOUSEHOLD earn last year? -- one of several categories, such as 75,000 to 99,999.\n",
    "\n",
    "In this project, I'll explore the data, and try to find interesting patterns.\n",
    "\n",
    "The first step is to read in and display the data."
   ]
  },
  {
   "cell_type": "markdown",
   "metadata": {},
   "source": [
    "Task:   \n",
    "- Import the pandas package.\n",
    "- Use the pandas.read_csv() function to read the thanksgiving.csv file in.\n",
    "- Make sure to specify the keyword argument encoding=\"Latin-1\", as the CSV file isn't encoded normally.\n",
    "- Assign the result to the variable data.\n",
    "- Display the first few rows of data to see what the columns and rows look like."
   ]
  },
  {
   "cell_type": "code",
   "execution_count": 2,
   "metadata": {
    "collapsed": false
   },
   "outputs": [
    {
     "data": {
      "text/html": [
       "<div>\n",
       "<table border=\"1\" class=\"dataframe\">\n",
       "  <thead>\n",
       "    <tr style=\"text-align: right;\">\n",
       "      <th></th>\n",
       "      <th>RespondentID</th>\n",
       "      <th>Do you celebrate Thanksgiving?</th>\n",
       "      <th>What is typically the main dish at your Thanksgiving dinner?</th>\n",
       "      <th>What is typically the main dish at your Thanksgiving dinner? - Other (please specify)</th>\n",
       "      <th>How is the main dish typically cooked?</th>\n",
       "      <th>How is the main dish typically cooked? - Other (please specify)</th>\n",
       "      <th>What kind of stuffing/dressing do you typically have?</th>\n",
       "      <th>What kind of stuffing/dressing do you typically have? - Other (please specify)</th>\n",
       "      <th>What type of cranberry saucedo you typically have?</th>\n",
       "      <th>What type of cranberry saucedo you typically have? - Other (please specify)</th>\n",
       "      <th>...</th>\n",
       "      <th>Have you ever tried to meet up with hometown friends on Thanksgiving night?</th>\n",
       "      <th>Have you ever attended a \"Friendsgiving?\"</th>\n",
       "      <th>Will you shop any Black Friday sales on Thanksgiving Day?</th>\n",
       "      <th>Do you work in retail?</th>\n",
       "      <th>Will you employer make you work on Black Friday?</th>\n",
       "      <th>How would you describe where you live?</th>\n",
       "      <th>Age</th>\n",
       "      <th>What is your gender?</th>\n",
       "      <th>How much total combined money did all members of your HOUSEHOLD earn last year?</th>\n",
       "      <th>US Region</th>\n",
       "    </tr>\n",
       "  </thead>\n",
       "  <tbody>\n",
       "    <tr>\n",
       "      <th>0</th>\n",
       "      <td>4337954960</td>\n",
       "      <td>Yes</td>\n",
       "      <td>Turkey</td>\n",
       "      <td>NaN</td>\n",
       "      <td>Baked</td>\n",
       "      <td>NaN</td>\n",
       "      <td>Bread-based</td>\n",
       "      <td>NaN</td>\n",
       "      <td>None</td>\n",
       "      <td>NaN</td>\n",
       "      <td>...</td>\n",
       "      <td>Yes</td>\n",
       "      <td>No</td>\n",
       "      <td>No</td>\n",
       "      <td>No</td>\n",
       "      <td>NaN</td>\n",
       "      <td>Suburban</td>\n",
       "      <td>18 - 29</td>\n",
       "      <td>Male</td>\n",
       "      <td>$75,000 to $99,999</td>\n",
       "      <td>Middle Atlantic</td>\n",
       "    </tr>\n",
       "    <tr>\n",
       "      <th>1</th>\n",
       "      <td>4337951949</td>\n",
       "      <td>Yes</td>\n",
       "      <td>Turkey</td>\n",
       "      <td>NaN</td>\n",
       "      <td>Baked</td>\n",
       "      <td>NaN</td>\n",
       "      <td>Bread-based</td>\n",
       "      <td>NaN</td>\n",
       "      <td>Other (please specify)</td>\n",
       "      <td>Homemade cranberry gelatin ring</td>\n",
       "      <td>...</td>\n",
       "      <td>No</td>\n",
       "      <td>No</td>\n",
       "      <td>Yes</td>\n",
       "      <td>No</td>\n",
       "      <td>NaN</td>\n",
       "      <td>Rural</td>\n",
       "      <td>18 - 29</td>\n",
       "      <td>Female</td>\n",
       "      <td>$50,000 to $74,999</td>\n",
       "      <td>East South Central</td>\n",
       "    </tr>\n",
       "    <tr>\n",
       "      <th>2</th>\n",
       "      <td>4337935621</td>\n",
       "      <td>Yes</td>\n",
       "      <td>Turkey</td>\n",
       "      <td>NaN</td>\n",
       "      <td>Roasted</td>\n",
       "      <td>NaN</td>\n",
       "      <td>Rice-based</td>\n",
       "      <td>NaN</td>\n",
       "      <td>Homemade</td>\n",
       "      <td>NaN</td>\n",
       "      <td>...</td>\n",
       "      <td>Yes</td>\n",
       "      <td>Yes</td>\n",
       "      <td>Yes</td>\n",
       "      <td>No</td>\n",
       "      <td>NaN</td>\n",
       "      <td>Suburban</td>\n",
       "      <td>18 - 29</td>\n",
       "      <td>Male</td>\n",
       "      <td>$0 to $9,999</td>\n",
       "      <td>Mountain</td>\n",
       "    </tr>\n",
       "    <tr>\n",
       "      <th>3</th>\n",
       "      <td>4337933040</td>\n",
       "      <td>Yes</td>\n",
       "      <td>Turkey</td>\n",
       "      <td>NaN</td>\n",
       "      <td>Baked</td>\n",
       "      <td>NaN</td>\n",
       "      <td>Bread-based</td>\n",
       "      <td>NaN</td>\n",
       "      <td>Homemade</td>\n",
       "      <td>NaN</td>\n",
       "      <td>...</td>\n",
       "      <td>Yes</td>\n",
       "      <td>No</td>\n",
       "      <td>No</td>\n",
       "      <td>No</td>\n",
       "      <td>NaN</td>\n",
       "      <td>Urban</td>\n",
       "      <td>30 - 44</td>\n",
       "      <td>Male</td>\n",
       "      <td>$200,000 and up</td>\n",
       "      <td>Pacific</td>\n",
       "    </tr>\n",
       "    <tr>\n",
       "      <th>4</th>\n",
       "      <td>4337931983</td>\n",
       "      <td>Yes</td>\n",
       "      <td>Tofurkey</td>\n",
       "      <td>NaN</td>\n",
       "      <td>Baked</td>\n",
       "      <td>NaN</td>\n",
       "      <td>Bread-based</td>\n",
       "      <td>NaN</td>\n",
       "      <td>Canned</td>\n",
       "      <td>NaN</td>\n",
       "      <td>...</td>\n",
       "      <td>Yes</td>\n",
       "      <td>No</td>\n",
       "      <td>No</td>\n",
       "      <td>No</td>\n",
       "      <td>NaN</td>\n",
       "      <td>Urban</td>\n",
       "      <td>30 - 44</td>\n",
       "      <td>Male</td>\n",
       "      <td>$100,000 to $124,999</td>\n",
       "      <td>Pacific</td>\n",
       "    </tr>\n",
       "  </tbody>\n",
       "</table>\n",
       "<p>5 rows × 65 columns</p>\n",
       "</div>"
      ],
      "text/plain": [
       "   RespondentID Do you celebrate Thanksgiving?  \\\n",
       "0    4337954960                            Yes   \n",
       "1    4337951949                            Yes   \n",
       "2    4337935621                            Yes   \n",
       "3    4337933040                            Yes   \n",
       "4    4337931983                            Yes   \n",
       "\n",
       "  What is typically the main dish at your Thanksgiving dinner?  \\\n",
       "0                                             Turkey             \n",
       "1                                             Turkey             \n",
       "2                                             Turkey             \n",
       "3                                             Turkey             \n",
       "4                                           Tofurkey             \n",
       "\n",
       "  What is typically the main dish at your Thanksgiving dinner? - Other (please specify)  \\\n",
       "0                                                NaN                                      \n",
       "1                                                NaN                                      \n",
       "2                                                NaN                                      \n",
       "3                                                NaN                                      \n",
       "4                                                NaN                                      \n",
       "\n",
       "  How is the main dish typically cooked?  \\\n",
       "0                                  Baked   \n",
       "1                                  Baked   \n",
       "2                                Roasted   \n",
       "3                                  Baked   \n",
       "4                                  Baked   \n",
       "\n",
       "  How is the main dish typically cooked? - Other (please specify)  \\\n",
       "0                                                NaN                \n",
       "1                                                NaN                \n",
       "2                                                NaN                \n",
       "3                                                NaN                \n",
       "4                                                NaN                \n",
       "\n",
       "  What kind of stuffing/dressing do you typically have?  \\\n",
       "0                                        Bread-based      \n",
       "1                                        Bread-based      \n",
       "2                                         Rice-based      \n",
       "3                                        Bread-based      \n",
       "4                                        Bread-based      \n",
       "\n",
       "  What kind of stuffing/dressing do you typically have? - Other (please specify)  \\\n",
       "0                                                NaN                               \n",
       "1                                                NaN                               \n",
       "2                                                NaN                               \n",
       "3                                                NaN                               \n",
       "4                                                NaN                               \n",
       "\n",
       "  What type of cranberry saucedo you typically have?  \\\n",
       "0                                               None   \n",
       "1                             Other (please specify)   \n",
       "2                                           Homemade   \n",
       "3                                           Homemade   \n",
       "4                                             Canned   \n",
       "\n",
       "  What type of cranberry saucedo you typically have? - Other (please specify)  \\\n",
       "0                                                NaN                            \n",
       "1                    Homemade cranberry gelatin ring                            \n",
       "2                                                NaN                            \n",
       "3                                                NaN                            \n",
       "4                                                NaN                            \n",
       "\n",
       "          ...          \\\n",
       "0         ...           \n",
       "1         ...           \n",
       "2         ...           \n",
       "3         ...           \n",
       "4         ...           \n",
       "\n",
       "  Have you ever tried to meet up with hometown friends on Thanksgiving night?  \\\n",
       "0                                                Yes                            \n",
       "1                                                 No                            \n",
       "2                                                Yes                            \n",
       "3                                                Yes                            \n",
       "4                                                Yes                            \n",
       "\n",
       "  Have you ever attended a \"Friendsgiving?\"  \\\n",
       "0                                        No   \n",
       "1                                        No   \n",
       "2                                       Yes   \n",
       "3                                        No   \n",
       "4                                        No   \n",
       "\n",
       "  Will you shop any Black Friday sales on Thanksgiving Day?  \\\n",
       "0                                                 No          \n",
       "1                                                Yes          \n",
       "2                                                Yes          \n",
       "3                                                 No          \n",
       "4                                                 No          \n",
       "\n",
       "  Do you work in retail? Will you employer make you work on Black Friday?  \\\n",
       "0                     No                                              NaN   \n",
       "1                     No                                              NaN   \n",
       "2                     No                                              NaN   \n",
       "3                     No                                              NaN   \n",
       "4                     No                                              NaN   \n",
       "\n",
       "  How would you describe where you live?      Age What is your gender?  \\\n",
       "0                               Suburban  18 - 29                 Male   \n",
       "1                                  Rural  18 - 29               Female   \n",
       "2                               Suburban  18 - 29                 Male   \n",
       "3                                  Urban  30 - 44                 Male   \n",
       "4                                  Urban  30 - 44                 Male   \n",
       "\n",
       "  How much total combined money did all members of your HOUSEHOLD earn last year?  \\\n",
       "0                                 $75,000 to $99,999                                \n",
       "1                                 $50,000 to $74,999                                \n",
       "2                                       $0 to $9,999                                \n",
       "3                                    $200,000 and up                                \n",
       "4                               $100,000 to $124,999                                \n",
       "\n",
       "            US Region  \n",
       "0     Middle Atlantic  \n",
       "1  East South Central  \n",
       "2            Mountain  \n",
       "3             Pacific  \n",
       "4             Pacific  \n",
       "\n",
       "[5 rows x 65 columns]"
      ]
     },
     "execution_count": 2,
     "metadata": {},
     "output_type": "execute_result"
    }
   ],
   "source": [
    "# Solution: \n",
    "import pandas as pd\n",
    "#First Line above imports the pandas package\n",
    "\n",
    "data = pd.read_csv('thanksgiving.csv', encoding='Latin-1')\n",
    "#This line reads in the data with special encoding\n",
    "\n",
    "data[:5]\n",
    "#This line prints the first 5 lines of data"
   ]
  },
  {
   "cell_type": "markdown",
   "metadata": {},
   "source": [
    "Task:\n",
    "- In a separate notebook cell, display all of the column names to get a sense of what the data consists of.\n",
    "    - You can use the pandas.DataFrame.columns property to display the column names."
   ]
  },
  {
   "cell_type": "code",
   "execution_count": 3,
   "metadata": {
    "collapsed": false
   },
   "outputs": [
    {
     "name": "stdout",
     "output_type": "stream",
     "text": [
      "Index(['RespondentID', 'Do you celebrate Thanksgiving?',\n",
      "       'What is typically the main dish at your Thanksgiving dinner?',\n",
      "       'What is typically the main dish at your Thanksgiving dinner? - Other (please specify)',\n",
      "       'How is the main dish typically cooked?',\n",
      "       'How is the main dish typically cooked? - Other (please specify)',\n",
      "       'What kind of stuffing/dressing do you typically have?',\n",
      "       'What kind of stuffing/dressing do you typically have? - Other (please specify)',\n",
      "       'What type of cranberry saucedo you typically have?',\n",
      "       'What type of cranberry saucedo you typically have? - Other (please specify)',\n",
      "       'Do you typically have gravy?',\n",
      "       'Which of these side dishes aretypically served at your Thanksgiving dinner? Please select all that apply. - Brussel sprouts',\n",
      "       'Which of these side dishes aretypically served at your Thanksgiving dinner? Please select all that apply. - Carrots',\n",
      "       'Which of these side dishes aretypically served at your Thanksgiving dinner? Please select all that apply. - Cauliflower',\n",
      "       'Which of these side dishes aretypically served at your Thanksgiving dinner? Please select all that apply. - Corn'],\n",
      "      dtype='object')\n"
     ]
    }
   ],
   "source": [
    "# Solution: \n",
    "print(data.columns[:15])\n",
    "# Only printing a subset of the columns to converve save in the notebook."
   ]
  },
  {
   "cell_type": "markdown",
   "metadata": {},
   "source": [
    "### Remove Thanksgiving Non-Observers from Data\n",
    "Because we want to understand what people ate for Thanksgiving, we'll remove any responses from people who don't celebrate it. The column Do you celebrate Thanksgiving? contains this information. We only want to keep data for people who answered Yes to this questions."
   ]
  },
  {
   "cell_type": "markdown",
   "metadata": {},
   "source": [
    "Task: \n",
    "- Use the pandas.Series.value_counts() method to display counts of how many times each category occurs in the Do you celebrate Thanksgiving? column.\n",
    "- Filter out any rows in data where the response to Do you celebrate Thanksgiving? is not Yes. At the end, all of the values in the Do you celebrate Thanksgiving? column of data should be Yes."
   ]
  },
  {
   "cell_type": "code",
   "execution_count": 4,
   "metadata": {
    "collapsed": false
   },
   "outputs": [
    {
     "name": "stdout",
     "output_type": "stream",
     "text": [
      "Yes    980\n",
      "No      78\n",
      "Name: Do you celebrate Thanksgiving?, dtype: int64\n"
     ]
    }
   ],
   "source": [
    "# Solution: \n",
    "print(data[\"Do you celebrate Thanksgiving?\"].value_counts())\n",
    "#This line prints how many observations in the dataset that celebrate Thanksgiving\n",
    "\n",
    "yes_rows=data[\"Do you celebrate Thanksgiving?\"]=='Yes'\n",
    "#This column uses Boolean logic to identify those who celebrate Thanksgiving\n",
    "\n",
    "data=data[yes_rows]\n",
    "#This column filters down specifically to those who celebrate Thanksgiving."
   ]
  },
  {
   "cell_type": "markdown",
   "metadata": {},
   "source": [
    "### Exploring Food Choices for Thanksgiving Dinner\n",
    "\n",
    "Let's explore what main dishes people tend to eat during Thanksgiving dinner. We can again use the value_counts method to help us with this."
   ]
  },
  {
   "cell_type": "markdown",
   "metadata": {},
   "source": [
    "Task:\n",
    "\n",
    "- Use the pandas.Series.value_counts() method to display counts of how many times each category occurs in the What is typically the main dish at your Thanksgiving dinner? column."
   ]
  },
  {
   "cell_type": "code",
   "execution_count": 5,
   "metadata": {
    "collapsed": false
   },
   "outputs": [
    {
     "name": "stdout",
     "output_type": "stream",
     "text": [
      "Turkey                    859\n",
      "Other (please specify)     35\n",
      "Ham/Pork                   29\n",
      "Tofurkey                   20\n",
      "Chicken                    12\n",
      "Roast beef                 11\n",
      "I don't know                5\n",
      "Turducken                   3\n",
      "Name: What is typically the main dish at your Thanksgiving dinner?, dtype: int64\n"
     ]
    }
   ],
   "source": [
    "# Solution: \n",
    "main_dish = data[\"What is typically the main dish at your Thanksgiving dinner?\"]\n",
    "dish_counts = main_dish.value_counts()\n",
    "print(dish_counts)"
   ]
  },
  {
   "cell_type": "markdown",
   "metadata": {},
   "source": [
    "Task: \n",
    "\n",
    "- Display the Do you typically have gravy? column for any rows from data where the What is typically the main dish at your Thanksgiving dinner? column equals Tofurkey.\n",
    "    - Create a filter that only selects rows from data where What is typically the main dish at your Thanksgiving dinner? equals Tofurkey.\n",
    "    - Select the Do you typically have gravy? column, and display it."
   ]
  },
  {
   "cell_type": "code",
   "execution_count": 6,
   "metadata": {
    "collapsed": false
   },
   "outputs": [
    {
     "name": "stdout",
     "output_type": "stream",
     "text": [
      "4       True\n",
      "33      True\n",
      "69     False\n",
      "72     False\n",
      "77      True\n",
      "145     True\n",
      "175     True\n",
      "218    False\n",
      "243     True\n",
      "275    False\n",
      "393     True\n",
      "399     True\n",
      "571     True\n",
      "594     True\n",
      "628    False\n",
      "774    False\n",
      "820    False\n",
      "837     True\n",
      "860    False\n",
      "953     True\n",
      "Name: Do you typically have gravy?, dtype: bool\n"
     ]
    },
    {
     "data": {
      "text/plain": [
       "Yes    12\n",
       "No      8\n",
       "Name: Do you typically have gravy?, dtype: int64"
      ]
     },
     "execution_count": 6,
     "metadata": {},
     "output_type": "execute_result"
    }
   ],
   "source": [
    "# Solution:\n",
    "tofurkey = data[data['What is typically the main dish at your Thanksgiving dinner?']=='Tofurkey']\n",
    "print(tofurkey['Do you typically have gravy?']==\"Yes\")\n",
    "\n",
    "# Additional analysis step, counting how many families who have Tofurkey do and don't have gravy.\n",
    "tofurkey_gravy = tofurkey['Do you typically have gravy?']\n",
    "tofurkey_gravy.value_counts()"
   ]
  },
  {
   "cell_type": "markdown",
   "metadata": {},
   "source": [
    "### Exploring Dessert Dishes\n",
    "\n",
    "Now that we've looked into the main dishes, let's explore the dessert dishes. Specifically, we'll look at how many people eat Apple, Pecan, or Pumpkin pie during Thanksgiving dinner. This data is encoded in the following three columns:\n",
    "- Which type of pie is typically served at your Thanksgiving dinner? Please select all that apply. - Apple\n",
    "- Which type of pie is typically served at your Thanksgiving dinner? Please select all that apply. - Pumpkin\n",
    "- Which type of pie is typically served at your Thanksgiving dinner? Please select all that apply. - Pecan\n",
    "\n",
    "In all three columns, the value is either the name of the pie if the person eats it for Thanksgiving dinner, or null otherwise.\n",
    "\n",
    "We can find out how many people eat one of these three pies for Thanksgiving dinner by figuring out for how many people all three columns are null.\n",
    "\n",
    "You may recall from an earlier mission that the pandas.isnull() function will return a Boolean Series indicating whether or not each value in a specified DataFrame or Series is null.\n",
    "\n",
    "We can also use the & operator to combine two Boolean Series into a single one. If both Series contain True in a position, the result will be True. Otherwise, the result will be False.\n",
    "\n",
    "If we use the pandas.isnull() function to check where all three columns are null, then use the & operator to join all of the Series, we'll end up with a single Boolean Series. Where that Series contains False, the person ate at least one of the types of pies for Thanksgiving dinner. Where it contains True, they ate none of the types of pies."
   ]
  },
  {
   "cell_type": "markdown",
   "metadata": {},
   "source": [
    "Task: \n",
    "- Generate a Boolean Series indicating where the Which type of pie is typically served at your Thanksgiving dinner? Please select all that apply. - Apple column is null. Assign to the apple_isnull variable.\n",
    "- Generate a Boolean Series indicating where the Which type of pie is typically served at your Thanksgiving dinner? Please select all that apply. - Pumpkin column is null. Assign to the pumpkin_isnull variable.\n",
    "- Generate a Boolean Series indicating where the Which type of pie is typically served at your Thanksgiving dinner? Please select all that apply. - Pecan column is null. Assign to the pecan_isnull variable.\n",
    "- Join all three Series using the & operator, and assign the result to ate_pies.\n",
    "- Display the unique values and how many times each occurs in the ate_pies column."
   ]
  },
  {
   "cell_type": "code",
   "execution_count": 7,
   "metadata": {
    "collapsed": false
   },
   "outputs": [
    {
     "data": {
      "text/plain": [
       "False    876\n",
       "True     104\n",
       "dtype: int64"
      ]
     },
     "execution_count": 7,
     "metadata": {},
     "output_type": "execute_result"
    }
   ],
   "source": [
    "# Solution: \n",
    "apple_isnull = pd.isnull(data['Which type of pie is typically served at your Thanksgiving dinner? Please select all that apply. - Apple'])\n",
    "pumpkin_isnull = pd.isnull(data['Which type of pie is typically served at your Thanksgiving dinner? Please select all that apply. - Pumpkin'])\n",
    "pecan_isnull = pd.isnull(data['Which type of pie is typically served at your Thanksgiving dinner? Please select all that apply. - Pecan'])\n",
    "ate_pies=apple_isnull&pumpkin_isnull&pecan_isnull\n",
    "ate_pies.value_counts()"
   ]
  },
  {
   "cell_type": "markdown",
   "metadata": {},
   "source": [
    "### Analyzing the Age Column\n",
    "\n",
    "Let's analyze the Age column in more depth. In order to analyze the Age column, we'll first need to convert it to numeric values. This will make it simple to figure out things like the average age of survey respondents. The Age column contains values that fall into one of a few categories:\n",
    "- 18 - 29\n",
    "- 30 - 44\n",
    "- 45 - 59\n",
    "- 60+\n",
    "- null\n",
    "\n",
    "Because we're missing the exact age value, we won't be able to extract an exact integer value, and we'll instead have to extract the first age value in the strings given.\n",
    "\n",
    "We can do this by splitting each value on the space character (), then taking the first item in the resulting list. We'll also have to replace the + character to account for 60+, which follows a different format than the rest."
   ]
  },
  {
   "cell_type": "markdown",
   "metadata": {},
   "source": [
    "Task:\n",
    "- Write a function to convert a single string to an appropriate integer value. This will allow us to convert the values in the Age column to integers.\n",
    "    - Use the isnull() function to check if the value is null. If it is, return None.\n",
    "    - Split the string on the space character (), and extract the first item of the resulting list.\n",
    "    - Replace the + character in the result with an empty string to remove it.\n",
    "    - Use int() to convert the result to an integer.\n",
    "    - Return the result.\n",
    "\n",
    "- Use the pandas.Series.apply() method to apply the function to each value in the Age column of data.\n",
    "    - Assign the result to the int_age column of data.\n",
    "- Call the pandas.Series.describe() method on the int_age column of data, and display the result."
   ]
  },
  {
   "cell_type": "code",
   "execution_count": 24,
   "metadata": {
    "collapsed": false
   },
   "outputs": [
    {
     "data": {
      "text/plain": [
       "count    947.000000\n",
       "mean      40.089757\n",
       "std       15.352014\n",
       "min       18.000000\n",
       "25%       30.000000\n",
       "50%       45.000000\n",
       "75%       60.000000\n",
       "max       60.000000\n",
       "Name: int_age, dtype: float64"
      ]
     },
     "execution_count": 24,
     "metadata": {},
     "output_type": "execute_result"
    }
   ],
   "source": [
    "# Solution: \n",
    "def ext_age(age_str):\n",
    "    if pd.isnull(age_str):\n",
    "        return None\n",
    "    age_str=age_str.split(\" \")[0]\n",
    "    age_str=age_str.replace(\"+\",'')\n",
    "    age_int=int(age_str)\n",
    "    return age_int\n",
    "#The code above takes age_str as input, removes null values, splits on spaces, replaces + with spaces, and converts to integer.\n",
    "\n",
    "\n",
    "data[\"int_age\"]=data[\"Age\"].apply(ext_age)\n",
    "data[\"int_age\"].describe()\n",
    "#These two lines add a column to the data for the age integers, and then prints descriptors about the column. "
   ]
  },
  {
   "cell_type": "markdown",
   "metadata": {},
   "source": [
    "Task:\n",
    "- In a separate markdown cell, write up your findings.\n",
    "    - Is there anything that we should be aware of about the results or our methodology?\n",
    "    - Is this a true depiction of the ages of survey participants?"
   ]
  },
  {
   "cell_type": "markdown",
   "metadata": {},
   "source": [
    "Solution:\n",
    "One thing that is important to keep in mind when considering our methodology and the way that ages are now represented, is that we have taken the lower bound of each age rangee.  As such, when we are looking at summary statistics associated with the age column, we will be underestimating those measures relative to what the true statistics likely are."
   ]
  },
  {
   "cell_type": "markdown",
   "metadata": {},
   "source": [
    "### Converting Household Income to Numeric\n",
    "\n",
    "The How much total combined money did all members of your HOUSEHOLD earn last year? column is very similar to the Age column. It contains categories, but can be converted to numerical values. Here are the unique values in the column:\n",
    "- Prefer not to answer\n",
    "- $ 0 to $9,999\n",
    "- $10,000 to $24,999\n",
    "- $25,000 to $49,999\n",
    "- $50,000 to $74,999\n",
    "- $75,000 to $99,999\n",
    "- $100,000 to $124,999\n",
    "- $125,000 to $149,999\n",
    "- $150,000 to $174,999\n",
    "- $175,000 to $199,999\n",
    "- $200,000 and up\n",
    "- null\n",
    "\n",
    "We can convert these values to numeric by again splitting on the space character (). We'll then have to account for the string Prefer. Finally, we'll be able to replace the dollar sign character $ and the comma ,, and return the result.\n"
   ]
  },
  {
   "cell_type": "markdown",
   "metadata": {},
   "source": [
    "Task: \n",
    "- Write a function to convert a single string to an appropriate integer income value.\n",
    "    - Use the isnull() function to check if the value is null. If it is, return None.\n",
    "    - Split the string on the space character (), and extract the first item of the resulting list.\n",
    "    - If the result equals Prefer, return None.\n",
    "    - Replace the $ and , characters in the result with empty strings to remove them.\n",
    "    - Use int() to convert the result to an integer.\n",
    "    - Return the result.\n",
    "- Use the pandas.Series.apply() method to apply the function to each value in the How much total combined money did all members of your HOUSEHOLD earn last year? column of data.\n",
    "    - Assign the result to the int_income column of data.\n",
    "- Call the pandas.Series.describe() method on the int_income column of data, and display the result."
   ]
  },
  {
   "cell_type": "code",
   "execution_count": 26,
   "metadata": {
    "collapsed": false
   },
   "outputs": [
    {
     "data": {
      "text/plain": [
       "count       829.000000\n",
       "mean      75965.018094\n",
       "std       59068.636748\n",
       "min           0.000000\n",
       "25%       25000.000000\n",
       "50%       75000.000000\n",
       "75%      100000.000000\n",
       "max      200000.000000\n",
       "Name: int_income, dtype: float64"
      ]
     },
     "execution_count": 26,
     "metadata": {},
     "output_type": "execute_result"
    }
   ],
   "source": [
    "# Solution: \n",
    "def ext_income(inc_str):\n",
    "    if pd.isnull(inc_str):\n",
    "        return None\n",
    "    inc_str=inc_str.split(\" \")[0]\n",
    "    if inc_str==\"Prefer\":\n",
    "        return None\n",
    "    inc_str=inc_str.replace(\"$\",\"\")\n",
    "    inc_str=inc_str.replace(\",\",\"\")\n",
    "    return int(inc_str)\n",
    "\n",
    "data['int_income']=data['How much total combined money did all members of your HOUSEHOLD earn last year?'].apply(ext_income)\n",
    "data['int_income'].describe()"
   ]
  },
  {
   "cell_type": "markdown",
   "metadata": {},
   "source": [
    "Task:\n",
    "- In a separate markdown cell, write up your findings.\n",
    "    - Is there anything that we should be aware of about the results or our methodology?\n",
    "    - Is this a true depiction of the incomes of survey participants?"
   ]
  },
  {
   "cell_type": "markdown",
   "metadata": {},
   "source": [
    "Solution: \n",
    "Based on the results above, you can see that all of the income bands have been forced to the lower bound, which will skew the results downward.  However, the average income is rather high in this dataset, at approximately ~$75k.  This could be an unrealistic depiction of survey participants."
   ]
  },
  {
   "cell_type": "markdown",
   "metadata": {},
   "source": [
    "### Exploring Relationship Between Income and Thanksgiving Travel\n",
    "\n",
    "We can now see how the distance someone travels for Thanksgiving dinner relates to their income level. It's safe to hypothesize that people earning less money could be younger, and would travel to their parent's houses for Thanksgiving. People earning more are more likely to have Thanksgiving at their house as a result.\n",
    "\n",
    "We can test this by filtering data based on int_income, and seeing what the values in the How far will you travel for Thanksgiving? column are."
   ]
  },
  {
   "cell_type": "markdown",
   "metadata": {},
   "source": [
    "Task:\n",
    "- See how far people earning under 150000 will travel.\n",
    "    - Filter data, and only select rows where int_income is less than 150000.\n",
    "    - Use indexing to select the How far will you travel for Thanksgiving? column.\n",
    "    - Use the value_counts() method to count up how many times each value occurs in the column.\n",
    "    - Display the results.\n",
    "- See how far people earning over 150000 will travel.\n",
    "    - Filter data, and only select rows where int_income is greater than 150000.\n",
    "    - Use indexing to select the How far will you travel for Thanksgiving? column.\n",
    "    - Use the value_counts() method to count up how many times each value occurs in the column.\n",
    "    - Display the results"
   ]
  },
  {
   "cell_type": "code",
   "execution_count": 27,
   "metadata": {
    "collapsed": false
   },
   "outputs": [
    {
     "data": {
      "text/plain": [
       "Thanksgiving is happening at my home--I won't travel at all                         281\n",
       "Thanksgiving is local--it will take place in the town I live in                     203\n",
       "Thanksgiving is out of town but not too far--it's a drive of a few hours or less    150\n",
       "Thanksgiving is out of town and far away--I have to drive several hours or fly       55\n",
       "Name: How far will you travel for Thanksgiving?, dtype: int64"
      ]
     },
     "execution_count": 27,
     "metadata": {},
     "output_type": "execute_result"
    }
   ],
   "source": [
    "# Solution: \n",
    "under150=data[data['int_income']<150000]\n",
    "over150=data[data['int_income']>150000]\n",
    "under150[\"How far will you travel for Thanksgiving?\"].value_counts()"
   ]
  },
  {
   "cell_type": "code",
   "execution_count": 28,
   "metadata": {
    "collapsed": false
   },
   "outputs": [
    {
     "data": {
      "text/plain": [
       "Thanksgiving is happening at my home--I won't travel at all                         49\n",
       "Thanksgiving is local--it will take place in the town I live in                     25\n",
       "Thanksgiving is out of town but not too far--it's a drive of a few hours or less    16\n",
       "Thanksgiving is out of town and far away--I have to drive several hours or fly      12\n",
       "Name: How far will you travel for Thanksgiving?, dtype: int64"
      ]
     },
     "execution_count": 28,
     "metadata": {},
     "output_type": "execute_result"
    }
   ],
   "source": [
    "# Solution, cont:\n",
    "over150[\"How far will you travel for Thanksgiving?\"].value_counts()"
   ]
  },
  {
   "cell_type": "markdown",
   "metadata": {},
   "source": [
    "Task: Write up your findings in a markdown cell."
   ]
  },
  {
   "cell_type": "markdown",
   "metadata": {},
   "source": [
    "Solution: \n",
    "\n",
    "Based on the results above, in most cases it appears that similar proportions are willing to travel based on income.  It does not appear to be a significant factor. \n",
    "\n",
    "However, there does seem to be a slightly higher proportion of people with over $150k income who will eat Thanksgiving at home.  \n",
    "\n",
    "It is clear that the population with the over $150k income is much smaller, so it would be interesting to see whether this is a statistically significant result."
   ]
  },
  {
   "cell_type": "markdown",
   "metadata": {},
   "source": [
    "### Exploring Relationship between Thanksgiving and Friendship\n",
    "\n",
    "There are two columns which directly pertain to friendship, Have you ever tried to meet up with hometown friends on Thanksgiving night?, and Have you ever attended a \"Friendsgiving?. In the US, a \"Friendsgiving\" is when instead of traveling home for the holiday, you celebrate it with friends who live in your area. Both questions seem skewed towards younger people. Let's see if this hypothesis holds up.\n",
    "\n",
    "In order to see the average ages of people who have done both, we can use a pivot table. As you may recall from an earlier mission, we can generate a pivot table with the pandas.DataFrame.pivot_table() method. By calling this method on data, and passing in the right keyword arguments, we can generate a table showing the average ages of people who answered Yes to both questions, answered Yes to one question, and so on."
   ]
  },
  {
   "cell_type": "markdown",
   "metadata": {},
   "source": [
    "Task:\n",
    "- Generate a pivot table showing the average age of respondents for each category of Have you ever tried to meet up with hometown friends on Thanksgiving night? and Have you ever attended a \"Friendsgiving?.\n",
    "    - Call the pivot_table() method on data.\n",
    "    - Pass in \"Have you ever tried to meet up with hometown friends on Thanksgiving night?\" to the index keyword argument.\n",
    "    - Pass in 'Have you ever attended a \"Friendsgiving?\"' to the columns keyword argument.\n",
    "    - Pass in \"int_age\" to the values keyword argument.\n",
    "    - Display the results."
   ]
  },
  {
   "cell_type": "code",
   "execution_count": 31,
   "metadata": {
    "collapsed": false
   },
   "outputs": [
    {
     "data": {
      "text/html": [
       "<div>\n",
       "<table border=\"1\" class=\"dataframe\">\n",
       "  <thead>\n",
       "    <tr style=\"text-align: right;\">\n",
       "      <th>Have you ever attended a \"Friendsgiving?\"</th>\n",
       "      <th>No</th>\n",
       "      <th>Yes</th>\n",
       "    </tr>\n",
       "    <tr>\n",
       "      <th>Have you ever tried to meet up with hometown friends on Thanksgiving night?</th>\n",
       "      <th></th>\n",
       "      <th></th>\n",
       "    </tr>\n",
       "  </thead>\n",
       "  <tbody>\n",
       "    <tr>\n",
       "      <th>No</th>\n",
       "      <td>42.283702</td>\n",
       "      <td>37.010526</td>\n",
       "    </tr>\n",
       "    <tr>\n",
       "      <th>Yes</th>\n",
       "      <td>41.475410</td>\n",
       "      <td>33.976744</td>\n",
       "    </tr>\n",
       "  </tbody>\n",
       "</table>\n",
       "</div>"
      ],
      "text/plain": [
       "Have you ever attended a \"Friendsgiving?\"                  No        Yes\n",
       "Have you ever tried to meet up with hometown fr...                      \n",
       "No                                                  42.283702  37.010526\n",
       "Yes                                                 41.475410  33.976744"
      ]
     },
     "execution_count": 31,
     "metadata": {},
     "output_type": "execute_result"
    }
   ],
   "source": [
    "# Solution: \n",
    "friends_pivot_age=data.pivot_table(index=\"Have you ever tried to meet up with hometown friends on Thanksgiving night?\", \n",
    "columns= 'Have you ever attended a \"Friendsgiving?\"', values='int_age')\n",
    "friends_pivot_age"
   ]
  },
  {
   "cell_type": "markdown",
   "metadata": {},
   "source": [
    "Task: \n",
    "- Generate a pivot table showing the average income of respondents for each category of Have you ever tried to meet up with hometown friends on Thanksgiving night? and Have you ever attended a \"Friendsgiving?."
   ]
  },
  {
   "cell_type": "code",
   "execution_count": 34,
   "metadata": {
    "collapsed": false
   },
   "outputs": [
    {
     "data": {
      "text/html": [
       "<div>\n",
       "<table border=\"1\" class=\"dataframe\">\n",
       "  <thead>\n",
       "    <tr style=\"text-align: right;\">\n",
       "      <th>Have you ever attended a \"Friendsgiving?\"</th>\n",
       "      <th>No</th>\n",
       "      <th>Yes</th>\n",
       "    </tr>\n",
       "    <tr>\n",
       "      <th>Have you ever tried to meet up with hometown friends on Thanksgiving night?</th>\n",
       "      <th></th>\n",
       "      <th></th>\n",
       "    </tr>\n",
       "  </thead>\n",
       "  <tbody>\n",
       "    <tr>\n",
       "      <th>No</th>\n",
       "      <td>78914.549654</td>\n",
       "      <td>72894.736842</td>\n",
       "    </tr>\n",
       "    <tr>\n",
       "      <th>Yes</th>\n",
       "      <td>78750.000000</td>\n",
       "      <td>66019.736842</td>\n",
       "    </tr>\n",
       "  </tbody>\n",
       "</table>\n",
       "</div>"
      ],
      "text/plain": [
       "Have you ever attended a \"Friendsgiving?\"                     No           Yes\n",
       "Have you ever tried to meet up with hometown fr...                            \n",
       "No                                                  78914.549654  72894.736842\n",
       "Yes                                                 78750.000000  66019.736842"
      ]
     },
     "execution_count": 34,
     "metadata": {},
     "output_type": "execute_result"
    }
   ],
   "source": [
    "# Solution: \n",
    "friends_pivot_inc=data.pivot_table(index=\"Have you ever tried to meet up with hometown friends on Thanksgiving night?\", \n",
    "columns= 'Have you ever attended a \"Friendsgiving?\"', \n",
    "values='int_income')\n",
    "friends_pivot_inc"
   ]
  },
  {
   "cell_type": "markdown",
   "metadata": {
    "collapsed": true
   },
   "source": [
    "Task: Write up a markdown cell with your findings."
   ]
  },
  {
   "cell_type": "markdown",
   "metadata": {},
   "source": [
    "Solution: Based on the two pivot tables above, there is a clear distinction regarding age between those who have attended a Friendsgiving and attempted to meet up with Friends on Thanksgiving and those who have not.  Specifically, it appears that the younger respondents and respondents with less income have partaken in more Thanksgiving activity with friends.  Those who responded \"Yes\" on each column are markedly younger."
   ]
  },
  {
   "cell_type": "markdown",
   "metadata": {},
   "source": [
    "### Potential Next Steps:\n",
    "\n",
    "That's it for the guided steps! \n",
    "\n",
    "Here are some potential next steps:\n",
    "- Figure out the most common dessert people eat.\n",
    "- Figure out the most common complete meal people eat.\n",
    "- Identify how many people work on Thanksgiving.\n",
    "- Find regional patterns in the dinner menus.\n",
    "- Find age, gender, and income based patterns in dinner menus."
   ]
  }
 ],
 "metadata": {
  "kernelspec": {
   "display_name": "Python 3",
   "language": "python",
   "name": "python3"
  },
  "language_info": {
   "codemirror_mode": {
    "name": "ipython",
    "version": 3
   },
   "file_extension": ".py",
   "mimetype": "text/x-python",
   "name": "python",
   "nbconvert_exporter": "python",
   "pygments_lexer": "ipython3",
   "version": "3.4.3"
  }
 },
 "nbformat": 4,
 "nbformat_minor": 0
}
